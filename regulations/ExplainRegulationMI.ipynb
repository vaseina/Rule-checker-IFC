{
  "cells": [
    {
      "cell_type": "markdown",
      "metadata": {
        "id": "AQLx1fzNbnGu"
      },
      "source": [
        "## "
      ]
    },
    {
      "cell_type": "markdown",
      "metadata": {
        "id": "pSp1R9lAMX1n"
      },
      "source": [
        "# Define namespace objects\n",
        "\n",
        "Here all the entities that we are going to work later would be initiated.\n"
      ]
    },
    {
      "cell_type": "markdown",
      "metadata": {
        "id": "tN-mwPpZNvQF"
      },
      "source": [
        "#### Definition of conceptual building and elements"
      ]
    },
    {
      "cell_type": "code",
      "execution_count": 3,
      "metadata": {
        "id": "IfK9YdmYpfsU"
      },
      "outputs": [],
      "source": [
        "import random\n",
        "\n",
        "\n",
        "# A conceptual element that has 8 random vertices\n",
        "class element:\n",
        "\n",
        "  def __init__(self):\n",
        "\n",
        "    self.y_coordinates = [random.randint(0,8),\n",
        "                          random.randint(0,8),\n",
        "                          random.randint(0,8),\n",
        "                          random.randint(0,8),\n",
        "                          random.randint(0,8),\n",
        "                          random.randint(0,8),\n",
        "                          random.randint(0,8),\n",
        "                          random.randint(0,8)]\n",
        "\n",
        "# A conceptual model that has 5 elements\n",
        "class model:\n",
        "\n",
        "  def __init__(self):\n",
        "\n",
        "    self.elements = []\n",
        "\n",
        "    for i in range(5):\n",
        "\n",
        "      self.elements.append(element())\n",
        "\n"
      ]
    },
    {
      "cell_type": "code",
      "execution_count": 4,
      "metadata": {
        "id": "Jy0DoyjToPgr"
      },
      "outputs": [],
      "source": [
        "class building:\n",
        "\n",
        "  # Get the model directly or get information through an API\n",
        "  def __init__(self, model, volume, bbuilding_distance, bboundaries_distance, zone):\n",
        "\n",
        "    \"\"\"these information can either be processed outside, considering \n",
        "    connection with other softwares that provide an connection through an API\n",
        "    Or can be processed inside, if we consider importing the models directly\"\"\"\n",
        "    self.model = model\n",
        "\n",
        "    # Example of information retrieve from 'outside'\n",
        "    self.zone = zone\n",
        "    self.volume = volume\n",
        "    self.building_building_distance = bbuilding_distance\n",
        "    self.building_boundaries_distance = bboundaries_distance\n",
        "\n",
        "    # Example of information processed inside\n",
        "    self.height = self.calc_height(self.model)\n",
        "  \n",
        "  def calc_height(self, model):\n",
        "\n",
        "    all_coordinates = []\n",
        "\n",
        "    for element in model.elements:\n",
        "      for coordinate in element.y_coordinates:\n",
        "\n",
        "        all_coordinates.append(coordinate)\n",
        "    return(max(all_coordinates)-min(all_coordinates))\n",
        "\n",
        "    return(model.height)"
      ]
    },
    {
      "cell_type": "markdown",
      "metadata": {
        "id": "TTVMaUofLUB6"
      },
      "source": [
        "# Import Models\n",
        "\n",
        "First, all the information from the BIM and GIS models will be imported.\n",
        "In this phase, the information could come as already processed information through an API, or the model can come directly to the routine and processed here. \n",
        "\n",
        ">The external tools could process the models in their engine and get information related to the entities that we might need to verify in the checkign routine. \n",
        "\n"
      ]
    },
    {
      "cell_type": "markdown",
      "metadata": {
        "id": "gUieMJ8wOFD9"
      },
      "source": [
        "#### Create a building instance\n",
        "\n",
        "Can be interpreted here as the import of building information"
      ]
    },
    {
      "cell_type": "code",
      "execution_count": 5,
      "metadata": {
        "id": "lDBGTw5Ftwgr"
      },
      "outputs": [],
      "source": [
        "# Define model\n",
        "building_model = model()\n",
        "\n",
        "# Initiate the building\n",
        "check_building = building(building_model, 500, 8, 4, \"Cava Giuliani\")"
      ]
    },
    {
      "cell_type": "markdown",
      "metadata": {
        "id": "V3JsFPuoN6Ju"
      },
      "source": [
        "# Import digital regulation"
      ]
    },
    {
      "cell_type": "code",
      "execution_count": 6,
      "metadata": {
        "id": "uZ0i2rXzzWZ0"
      },
      "outputs": [],
      "source": [
        "import json\n",
        "\n",
        "# Open the digital/machine interpretable regulation\n",
        "with open(\"/content/chek_regulation_prototype.vwip1.json\", 'r', encoding='utf-8') as file:\n",
        "  digital_regulation = json.loads(file.read())"
      ]
    },
    {
      "cell_type": "markdown",
      "metadata": {
        "id": "nsWvbck5OYDe"
      },
      "source": [
        "# Execute verification"
      ]
    },
    {
      "cell_type": "code",
      "execution_count": 7,
      "metadata": {
        "id": "izaWzcbYOzDl"
      },
      "outputs": [],
      "source": [
        "# Initiate an empity report\n",
        "report = []\n",
        "\n",
        "# Loop through all the clauses\n",
        "for clause in digital_regulation['clauses']:\n",
        "\n",
        "  # Create information to populate the report\n",
        "  info ={\n",
        "      \"legal_reference\":clause[\"legal_reference\"],\n",
        "      \"name\":clause[\"name\"],\n",
        "      \"rules\":[]}\n",
        "\n",
        "  # Loop through all the rules to verify the applicable ones\n",
        "  for rule in clause[\"rules\"]:\n",
        "\n",
        "\n",
        "    if rule['zone'] == check_building.zone: # Check if the applicable zone of the building is the same zone of the building\n",
        "\n",
        "      if eval(rule[\"python_code\"]): # Evaluate the rule statements contained in the 'python_code' key\n",
        "\n",
        "        # Append the result to the info\n",
        "        info['rules'].append(rule[\"name\"] +' : '+ \" passed!\")\n",
        "      else:\n",
        "        info['rules'].append(rule[\"name\"] +' : '+ \"didn't pass!\")\n",
        "\n",
        "    else:\n",
        "      info['rules'] = [\"do not apply\"]\n",
        "\n",
        "  # Append the info to the report\n",
        "  report.append(info)\n"
      ]
    },
    {
      "cell_type": "markdown",
      "metadata": {
        "id": "qsN_NsarRbih"
      },
      "source": [
        "# Generate report"
      ]
    },
    {
      "cell_type": "code",
      "execution_count": 8,
      "metadata": {
        "colab": {
          "base_uri": "https://localhost:8080/"
        },
        "id": "c_UH1M-QRfP8",
        "outputId": "729a300b-fca6-473c-83ac-ac9989a6d71c"
      },
      "outputs": [
        {
          "name": "stdout",
          "output_type": "stream",
          "text": [
            "Art. 54 A)\n",
            "Recupero e valorizzazione dell'ex Cava Giuliani per attività artistica con aumento della SUL e realizzazione di manufatto.\n",
            "maximum height :  passed!\n",
            "maximum volume :  passed!\n",
            "building to building distance :  passed!\n",
            "building to boundaries distance :  passed!\n",
            "Art. 54 B)\n",
            "Recupero e valorizzazione dell'ex Cava Angelini per attività artistica con aumento della SUL e realizzazione di manufatto.\n",
            "do not apply\n"
          ]
        }
      ],
      "source": [
        "for info in report:\n",
        "  print(info[\"legal_reference\"])\n",
        "  print(info[\"name\"])\n",
        "  for rule_report in info['rules']:\n",
        "    print(rule_report)"
      ]
    }
  ],
  "metadata": {
    "colab": {
      "provenance": []
    },
    "kernelspec": {
      "display_name": "Python 3",
      "name": "python3"
    },
    "language_info": {
      "name": "python"
    }
  },
  "nbformat": 4,
  "nbformat_minor": 0
}
